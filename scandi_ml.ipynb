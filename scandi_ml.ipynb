{
 "cells": [
  {
   "cell_type": "code",
   "execution_count": 38,
   "metadata": {},
   "outputs": [],
   "source": [
    "import pandas as pd\n",
    "import tensorflow as tf\n",
    "import numpy as np\n"
   ]
  },
  {
   "cell_type": "code",
   "execution_count": 39,
   "metadata": {},
   "outputs": [],
   "source": [
    "df = pd.read_excel('Data.xlsx')"
   ]
  },
  {
   "cell_type": "code",
   "execution_count": 42,
   "metadata": {},
   "outputs": [
    {
     "data": {
      "text/html": [
       "<div>\n",
       "<style scoped>\n",
       "    .dataframe tbody tr th:only-of-type {\n",
       "        vertical-align: middle;\n",
       "    }\n",
       "\n",
       "    .dataframe tbody tr th {\n",
       "        vertical-align: top;\n",
       "    }\n",
       "\n",
       "    .dataframe thead th {\n",
       "        text-align: right;\n",
       "    }\n",
       "</style>\n",
       "<table border=\"1\" class=\"dataframe\">\n",
       "  <thead>\n",
       "    <tr style=\"text-align: right;\">\n",
       "      <th></th>\n",
       "      <th>event_date</th>\n",
       "      <th>Date</th>\n",
       "      <th>Weekday</th>\n",
       "      <th>session_id</th>\n",
       "      <th>User_Id</th>\n",
       "      <th>event_name</th>\n",
       "      <th>Channel</th>\n",
       "      <th>Device</th>\n",
       "      <th>Item_Category</th>\n",
       "      <th>revenue</th>\n",
       "      <th>Made_Purchase</th>\n",
       "      <th>item_quantity</th>\n",
       "      <th>Quantity</th>\n",
       "    </tr>\n",
       "  </thead>\n",
       "  <tbody>\n",
       "    <tr>\n",
       "      <th>0</th>\n",
       "      <td>20221031</td>\n",
       "      <td>2022-10-31</td>\n",
       "      <td>Monday</td>\n",
       "      <td>1667222766</td>\n",
       "      <td>1.180241e+32</td>\n",
       "      <td>session_start</td>\n",
       "      <td>Paid Search</td>\n",
       "      <td>mobile</td>\n",
       "      <td>Other</td>\n",
       "      <td>0</td>\n",
       "      <td>0</td>\n",
       "      <td>0</td>\n",
       "      <td>0.0</td>\n",
       "    </tr>\n",
       "    <tr>\n",
       "      <th>1</th>\n",
       "      <td>20221031</td>\n",
       "      <td>2022-10-31</td>\n",
       "      <td>Monday</td>\n",
       "      <td>1667211122</td>\n",
       "      <td>6.940301e+32</td>\n",
       "      <td>session_start</td>\n",
       "      <td>Paid Search</td>\n",
       "      <td>mobile</td>\n",
       "      <td>Other</td>\n",
       "      <td>0</td>\n",
       "      <td>0</td>\n",
       "      <td>0</td>\n",
       "      <td>0.0</td>\n",
       "    </tr>\n",
       "    <tr>\n",
       "      <th>2</th>\n",
       "      <td>20221031</td>\n",
       "      <td>2022-10-31</td>\n",
       "      <td>Monday</td>\n",
       "      <td>1667265090</td>\n",
       "      <td>1.708097e+33</td>\n",
       "      <td>session_start</td>\n",
       "      <td>Paid Search</td>\n",
       "      <td>mobile</td>\n",
       "      <td>Other</td>\n",
       "      <td>0</td>\n",
       "      <td>0</td>\n",
       "      <td>0</td>\n",
       "      <td>0.0</td>\n",
       "    </tr>\n",
       "    <tr>\n",
       "      <th>3</th>\n",
       "      <td>20221031</td>\n",
       "      <td>2022-10-31</td>\n",
       "      <td>Monday</td>\n",
       "      <td>1667225629</td>\n",
       "      <td>3.259446e+31</td>\n",
       "      <td>session_start</td>\n",
       "      <td>Paid Search</td>\n",
       "      <td>mobile</td>\n",
       "      <td>Other</td>\n",
       "      <td>0</td>\n",
       "      <td>0</td>\n",
       "      <td>0</td>\n",
       "      <td>0.0</td>\n",
       "    </tr>\n",
       "    <tr>\n",
       "      <th>4</th>\n",
       "      <td>20221031</td>\n",
       "      <td>2022-10-31</td>\n",
       "      <td>Monday</td>\n",
       "      <td>1667238370</td>\n",
       "      <td>4.414687e+32</td>\n",
       "      <td>session_start</td>\n",
       "      <td>Paid Search</td>\n",
       "      <td>mobile</td>\n",
       "      <td>Other</td>\n",
       "      <td>0</td>\n",
       "      <td>0</td>\n",
       "      <td>0</td>\n",
       "      <td>0.0</td>\n",
       "    </tr>\n",
       "  </tbody>\n",
       "</table>\n",
       "</div>"
      ],
      "text/plain": [
       "   event_date       Date Weekday  session_id       User_Id     event_name  \\\n",
       "0    20221031 2022-10-31  Monday  1667222766  1.180241e+32  session_start   \n",
       "1    20221031 2022-10-31  Monday  1667211122  6.940301e+32  session_start   \n",
       "2    20221031 2022-10-31  Monday  1667265090  1.708097e+33  session_start   \n",
       "3    20221031 2022-10-31  Monday  1667225629  3.259446e+31  session_start   \n",
       "4    20221031 2022-10-31  Monday  1667238370  4.414687e+32  session_start   \n",
       "\n",
       "       Channel  Device Item_Category revenue  Made_Purchase  item_quantity  \\\n",
       "0  Paid Search  mobile         Other       0              0              0   \n",
       "1  Paid Search  mobile         Other       0              0              0   \n",
       "2  Paid Search  mobile         Other       0              0              0   \n",
       "3  Paid Search  mobile         Other       0              0              0   \n",
       "4  Paid Search  mobile         Other       0              0              0   \n",
       "\n",
       "   Quantity  \n",
       "0       0.0  \n",
       "1       0.0  \n",
       "2       0.0  \n",
       "3       0.0  \n",
       "4       0.0  "
      ]
     },
     "execution_count": 42,
     "metadata": {},
     "output_type": "execute_result"
    }
   ],
   "source": [
    "df.head()"
   ]
  },
  {
   "cell_type": "code",
   "execution_count": 43,
   "metadata": {},
   "outputs": [],
   "source": [
    "df['Item_Category'].fillna('Other', inplace=True)\n",
    "df['revenue'].fillna(0, inplace=True)\n",
    "\n",
    "df['Quantity'].fillna(0, inplace=True)"
   ]
  },
  {
   "cell_type": "code",
   "execution_count": 44,
   "metadata": {},
   "outputs": [],
   "source": [
    "df['Item_Category']=df['Item_Category'].astype(str)\n",
    "df['revenue']=df['revenue'].replace({'\\$':'',',':''},regex=True).astype(float)"
   ]
  },
  {
   "cell_type": "code",
   "execution_count": 45,
   "metadata": {},
   "outputs": [
    {
     "name": "stdout",
     "output_type": "stream",
     "text": [
      "event_date                int64\n",
      "Date             datetime64[ns]\n",
      "Weekday                  object\n",
      "session_id                int64\n",
      "User_Id                 float64\n",
      "event_name               object\n",
      "Channel                  object\n",
      "Device                   object\n",
      "Item_Category            object\n",
      "revenue                 float64\n",
      "Made_Purchase             int64\n",
      "item_quantity             int64\n",
      "Quantity                float64\n",
      "dtype: object\n"
     ]
    }
   ],
   "source": [
    "print(df.dtypes)"
   ]
  },
  {
   "cell_type": "code",
   "execution_count": 46,
   "metadata": {},
   "outputs": [],
   "source": [
    "grouped_df = df.groupby('User_Id').agg(\n",
    "    channel_counts=('Channel', lambda x: x.value_counts().to_dict()),\n",
    "    device_counts=('Device', lambda x: x.value_counts().to_dict()),\n",
    "    total_revenue=('revenue', 'sum'),\n",
    "    total_purchases=('Made_Purchase', 'max')\n",
    ").reset_index()"
   ]
  },
  {
   "cell_type": "code",
   "execution_count": 47,
   "metadata": {},
   "outputs": [],
   "source": [
    "one_hot_encoded = pd.get_dummies(df[['User_Id', 'Item_Category']], columns=['Item_Category'])"
   ]
  },
  {
   "cell_type": "code",
   "execution_count": 48,
   "metadata": {},
   "outputs": [],
   "source": [
    "one_hot_encoded_grouped = one_hot_encoded.groupby('User_Id').sum().reset_index()\n",
    "grouped_df = grouped_df.merge(one_hot_encoded_grouped, on='User_Id', how='left')"
   ]
  },
  {
   "cell_type": "code",
   "execution_count": 49,
   "metadata": {},
   "outputs": [],
   "source": [
    "from pandas import json_normalize\n",
    "\n",
    "channel_df = json_normalize(grouped_df['channel_counts'])\n",
    "grouped_df = grouped_df.drop('channel_counts', axis=1).join(channel_df.fillna(0))\n",
    "\n",
    "device_df = json_normalize(grouped_df['device_counts'])\n",
    "grouped_df = grouped_df.drop('device_counts', axis=1).join(device_df.fillna(0))\n",
    "\n",
    "\n",
    "grouped_df = grouped_df.astype(float)"
   ]
  },
  {
   "cell_type": "code",
   "execution_count": 53,
   "metadata": {},
   "outputs": [],
   "source": [
    "grouped_df.to_excel('Correlation_data_two.xlsx')"
   ]
  },
  {
   "cell_type": "code",
   "execution_count": 54,
   "metadata": {},
   "outputs": [],
   "source": [
    "#classification model\n",
    "from imblearn.over_sampling import SMOTE\n",
    "from imblearn.pipeline import Pipeline\n",
    "from sklearn.model_selection import train_test_split\n",
    "\n",
    "\n",
    "X_class = grouped_df.drop(['total_revenue', 'total_purchases', 'User_Id'], axis=1)\n",
    "y_class = grouped_df['total_purchases'] \n",
    "\n",
    "X_train, X_test, y_train, y_test = train_test_split(X_class, y_class, test_size=0.3, random_state=42)"
   ]
  },
  {
   "cell_type": "code",
   "execution_count": 55,
   "metadata": {},
   "outputs": [],
   "source": [
    "smote = SMOTE(random_state=42)\n",
    "X_class_resampled, y_class_resampled = smote.fit_resample(X_train, y_train)"
   ]
  },
  {
   "cell_type": "code",
   "execution_count": 61,
   "metadata": {},
   "outputs": [
    {
     "name": "stdout",
     "output_type": "stream",
     "text": [
      "Epoch 1/10\n",
      "3863/3863 [==============================] - 4s 1ms/step - loss: 0.3290 - accuracy: 0.9610 - val_loss: 0.0918 - val_accuracy: 0.9715\n",
      "Epoch 2/10\n",
      "3863/3863 [==============================] - 4s 992us/step - loss: 0.2592 - accuracy: 0.9679 - val_loss: 0.0941 - val_accuracy: 0.9780\n",
      "Epoch 3/10\n",
      "3863/3863 [==============================] - 4s 1ms/step - loss: 0.2446 - accuracy: 0.9712 - val_loss: 0.0727 - val_accuracy: 0.9833\n",
      "Epoch 4/10\n",
      "3863/3863 [==============================] - 4s 1ms/step - loss: 0.2242 - accuracy: 0.9721 - val_loss: 0.1132 - val_accuracy: 0.9746\n",
      "Epoch 5/10\n",
      "3863/3863 [==============================] - 4s 1ms/step - loss: 0.2189 - accuracy: 0.9724 - val_loss: 0.0727 - val_accuracy: 0.9839\n",
      "Epoch 6/10\n",
      "3863/3863 [==============================] - 4s 1ms/step - loss: 0.2226 - accuracy: 0.9719 - val_loss: 0.0405 - val_accuracy: 0.9889\n",
      "Epoch 7/10\n",
      "3863/3863 [==============================] - 4s 1ms/step - loss: 0.2180 - accuracy: 0.9742 - val_loss: 0.1019 - val_accuracy: 0.9693\n",
      "Epoch 8/10\n",
      "3863/3863 [==============================] - 4s 996us/step - loss: 0.2341 - accuracy: 0.9723 - val_loss: 0.1266 - val_accuracy: 0.9774\n",
      "Epoch 9/10\n",
      "3863/3863 [==============================] - 4s 998us/step - loss: 0.2438 - accuracy: 0.9715 - val_loss: 0.1224 - val_accuracy: 0.9865\n",
      "Epoch 10/10\n",
      "3863/3863 [==============================] - 4s 989us/step - loss: 0.1904 - accuracy: 0.9754 - val_loss: 0.0752 - val_accuracy: 0.9829\n"
     ]
    },
    {
     "data": {
      "text/plain": [
       "<keras.src.callbacks.History at 0x23e845dd190>"
      ]
     },
     "execution_count": 61,
     "metadata": {},
     "output_type": "execute_result"
    }
   ],
   "source": [
    "from tensorflow.keras.models import Sequential # type: ignore\n",
    "from tensorflow.keras.layers import Dense # type: ignore\n",
    "\n",
    "\n",
    "model_class = Sequential([\n",
    "    Dense(64, activation='relu', input_shape=(X_class_resampled.shape[1],)),\n",
    "    Dense(32, activation='relu'),\n",
    "    Dense(1, activation='relu')\n",
    "])\n",
    "\n",
    "\n",
    "model_class.compile(optimizer='adam', loss='binary_crossentropy', metrics=['accuracy'])\n",
    "\n",
    "\n",
    "model_class.fit(X_class_resampled, y_class_resampled, epochs=10, batch_size=32, validation_split=0.2)"
   ]
  },
  {
   "cell_type": "code",
   "execution_count": 68,
   "metadata": {},
   "outputs": [],
   "source": [
    "model_class.save(r'C:\\Users\\Bozo\\Desktop\\Scandiweb_ML\\Classification_model.h5')"
   ]
  },
  {
   "cell_type": "code",
   "execution_count": 65,
   "metadata": {},
   "outputs": [
    {
     "name": "stdout",
     "output_type": "stream",
     "text": [
      "Epoch 1/10\n",
      "3863/3863 [==============================] - 4s 944us/step - loss: 0.0964 - val_loss: 0.0275\n",
      "Epoch 2/10\n",
      "3863/3863 [==============================] - 4s 928us/step - loss: 0.0295 - val_loss: 0.0201\n",
      "Epoch 3/10\n",
      "3863/3863 [==============================] - 4s 919us/step - loss: 0.0238 - val_loss: 0.0178\n",
      "Epoch 4/10\n",
      "3863/3863 [==============================] - 4s 925us/step - loss: 0.0199 - val_loss: 0.0206\n",
      "Epoch 5/10\n",
      "3863/3863 [==============================] - 4s 923us/step - loss: 0.0181 - val_loss: 0.0118\n",
      "Epoch 6/10\n",
      "3863/3863 [==============================] - 4s 910us/step - loss: 0.0160 - val_loss: 0.0117\n",
      "Epoch 7/10\n",
      "3863/3863 [==============================] - 4s 923us/step - loss: 0.0149 - val_loss: 0.0119\n",
      "Epoch 8/10\n",
      "3863/3863 [==============================] - 4s 916us/step - loss: 0.0141 - val_loss: 0.0091\n",
      "Epoch 9/10\n",
      "3863/3863 [==============================] - 4s 928us/step - loss: 0.0130 - val_loss: 0.0057\n",
      "Epoch 10/10\n",
      "3863/3863 [==============================] - 4s 967us/step - loss: 0.0125 - val_loss: 0.0108\n"
     ]
    },
    {
     "data": {
      "text/plain": [
       "<keras.src.callbacks.History at 0x23e8efde090>"
      ]
     },
     "execution_count": 65,
     "metadata": {},
     "output_type": "execute_result"
    }
   ],
   "source": [
    "model_regression = Sequential([\n",
    "    Dense(64, activation='relu', input_shape=(X_class_resampled.shape[1],)),\n",
    "    Dense(32, activation='relu'),\n",
    "    Dense(1)\n",
    "])\n",
    "\n",
    "model_regression.compile(optimizer='adam', loss='mean_squared_error')\n",
    "\n",
    "\n",
    "model_regression.fit(X_class_resampled, y_class_resampled, epochs=10, batch_size=32, validation_split=0.2)"
   ]
  },
  {
   "cell_type": "code",
   "execution_count": 69,
   "metadata": {},
   "outputs": [],
   "source": [
    "model_regression.save(r'C:\\Users\\Bozo\\Desktop\\Scandiweb_ML\\Regression_model.h5')"
   ]
  }
 ],
 "metadata": {
  "kernelspec": {
   "display_name": "Python 3",
   "language": "python",
   "name": "python3"
  },
  "language_info": {
   "codemirror_mode": {
    "name": "ipython",
    "version": 3
   },
   "file_extension": ".py",
   "mimetype": "text/x-python",
   "name": "python",
   "nbconvert_exporter": "python",
   "pygments_lexer": "ipython3",
   "version": "3.11.1"
  }
 },
 "nbformat": 4,
 "nbformat_minor": 2
}
